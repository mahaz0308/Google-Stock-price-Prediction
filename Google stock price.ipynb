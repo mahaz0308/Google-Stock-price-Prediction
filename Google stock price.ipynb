{
 "cells": [
  {
   "cell_type": "code",
   "execution_count": 1,
   "metadata": {},
   "outputs": [],
   "source": [
    "import numpy as np \n",
    "import pandas as pd \n",
    "import matplotlib.pyplot as plt \n",
    "from sklearn.preprocessing import MinMaxScaler\n",
    "from keras.models import Sequential\n",
    "from keras.layers import Dense,LSTM,Dropout"
   ]
  },
  {
   "cell_type": "code",
   "execution_count": 2,
   "metadata": {},
   "outputs": [
    {
     "data": {
      "text/html": [
       "<div>\n",
       "<style scoped>\n",
       "    .dataframe tbody tr th:only-of-type {\n",
       "        vertical-align: middle;\n",
       "    }\n",
       "\n",
       "    .dataframe tbody tr th {\n",
       "        vertical-align: top;\n",
       "    }\n",
       "\n",
       "    .dataframe thead th {\n",
       "        text-align: right;\n",
       "    }\n",
       "</style>\n",
       "<table border=\"1\" class=\"dataframe\">\n",
       "  <thead>\n",
       "    <tr style=\"text-align: right;\">\n",
       "      <th></th>\n",
       "      <th>Date</th>\n",
       "      <th>Open</th>\n",
       "      <th>High</th>\n",
       "      <th>Low</th>\n",
       "      <th>Close</th>\n",
       "      <th>Volume</th>\n",
       "    </tr>\n",
       "  </thead>\n",
       "  <tbody>\n",
       "    <tr>\n",
       "      <th>0</th>\n",
       "      <td>1/3/2012</td>\n",
       "      <td>325.25</td>\n",
       "      <td>332.83</td>\n",
       "      <td>324.97</td>\n",
       "      <td>663.59</td>\n",
       "      <td>7,380,500</td>\n",
       "    </tr>\n",
       "    <tr>\n",
       "      <th>1</th>\n",
       "      <td>1/4/2012</td>\n",
       "      <td>331.27</td>\n",
       "      <td>333.87</td>\n",
       "      <td>329.08</td>\n",
       "      <td>666.45</td>\n",
       "      <td>5,749,400</td>\n",
       "    </tr>\n",
       "    <tr>\n",
       "      <th>2</th>\n",
       "      <td>1/5/2012</td>\n",
       "      <td>329.83</td>\n",
       "      <td>330.75</td>\n",
       "      <td>326.89</td>\n",
       "      <td>657.21</td>\n",
       "      <td>6,590,300</td>\n",
       "    </tr>\n",
       "    <tr>\n",
       "      <th>3</th>\n",
       "      <td>1/6/2012</td>\n",
       "      <td>328.34</td>\n",
       "      <td>328.77</td>\n",
       "      <td>323.68</td>\n",
       "      <td>648.24</td>\n",
       "      <td>5,405,900</td>\n",
       "    </tr>\n",
       "    <tr>\n",
       "      <th>4</th>\n",
       "      <td>1/9/2012</td>\n",
       "      <td>322.04</td>\n",
       "      <td>322.29</td>\n",
       "      <td>309.46</td>\n",
       "      <td>620.76</td>\n",
       "      <td>11,688,800</td>\n",
       "    </tr>\n",
       "  </tbody>\n",
       "</table>\n",
       "</div>"
      ],
      "text/plain": [
       "       Date    Open    High     Low   Close      Volume\n",
       "0  1/3/2012  325.25  332.83  324.97  663.59   7,380,500\n",
       "1  1/4/2012  331.27  333.87  329.08  666.45   5,749,400\n",
       "2  1/5/2012  329.83  330.75  326.89  657.21   6,590,300\n",
       "3  1/6/2012  328.34  328.77  323.68  648.24   5,405,900\n",
       "4  1/9/2012  322.04  322.29  309.46  620.76  11,688,800"
      ]
     },
     "execution_count": 2,
     "metadata": {},
     "output_type": "execute_result"
    }
   ],
   "source": [
    "data = pd.read_csv('Google_train_data.csv')\n",
    "data.head()"
   ]
  },
  {
   "cell_type": "code",
   "execution_count": 3,
   "metadata": {},
   "outputs": [
    {
     "name": "stdout",
     "output_type": "stream",
     "text": [
      "<class 'pandas.core.frame.DataFrame'>\n",
      "RangeIndex: 1258 entries, 0 to 1257\n",
      "Data columns (total 6 columns):\n",
      " #   Column  Non-Null Count  Dtype  \n",
      "---  ------  --------------  -----  \n",
      " 0   Date    1258 non-null   object \n",
      " 1   Open    1258 non-null   float64\n",
      " 2   High    1258 non-null   float64\n",
      " 3   Low     1258 non-null   float64\n",
      " 4   Close   1258 non-null   object \n",
      " 5   Volume  1258 non-null   object \n",
      "dtypes: float64(3), object(3)\n",
      "memory usage: 59.1+ KB\n"
     ]
    }
   ],
   "source": [
    "data.info()"
   ]
  },
  {
   "cell_type": "code",
   "execution_count": 4,
   "metadata": {},
   "outputs": [],
   "source": [
    "data[\"Close\"]=pd.to_numeric(data.Close,errors='coerce')\n",
    "data = data.dropna()\n",
    "trainData = data.iloc[:,4:5].values"
   ]
  },
  {
   "cell_type": "code",
   "execution_count": 5,
   "metadata": {},
   "outputs": [
    {
     "name": "stdout",
     "output_type": "stream",
     "text": [
      "<class 'pandas.core.frame.DataFrame'>\n",
      "Int64Index: 1149 entries, 0 to 1257\n",
      "Data columns (total 6 columns):\n",
      " #   Column  Non-Null Count  Dtype  \n",
      "---  ------  --------------  -----  \n",
      " 0   Date    1149 non-null   object \n",
      " 1   Open    1149 non-null   float64\n",
      " 2   High    1149 non-null   float64\n",
      " 3   Low     1149 non-null   float64\n",
      " 4   Close   1149 non-null   float64\n",
      " 5   Volume  1149 non-null   object \n",
      "dtypes: float64(4), object(2)\n",
      "memory usage: 62.8+ KB\n"
     ]
    }
   ],
   "source": [
    "data.info()"
   ]
  },
  {
   "cell_type": "code",
   "execution_count": 6,
   "metadata": {},
   "outputs": [
    {
     "data": {
      "text/plain": [
       "(1149, 1)"
      ]
     },
     "execution_count": 6,
     "metadata": {},
     "output_type": "execute_result"
    }
   ],
   "source": [
    "sc = MinMaxScaler(feature_range=(0,1))\n",
    "trainData = sc.fit_transform(trainData)\n",
    "trainData.shape"
   ]
  },
  {
   "cell_type": "code",
   "execution_count": 7,
   "metadata": {},
   "outputs": [],
   "source": [
    "X_train = []\n",
    "y_train = []\n",
    "\n",
    "for i in range (60,1149): #60 : timestep // 1149 : length of the data\n",
    "    X_train.append(trainData[i-60:i,0]) \n",
    "    y_train.append(trainData[i,0])\n",
    "\n",
    "X_train,y_train = np.array(X_train),np.array(y_train)"
   ]
  },
  {
   "cell_type": "code",
   "execution_count": 8,
   "metadata": {},
   "outputs": [
    {
     "data": {
      "text/plain": [
       "(1089, 60, 1)"
      ]
     },
     "execution_count": 8,
     "metadata": {},
     "output_type": "execute_result"
    }
   ],
   "source": [
    "X_train = np.reshape(X_train,(X_train.shape[0],X_train.shape[1],1)) #adding the batch_size axis\n",
    "X_train.shape"
   ]
  },
  {
   "cell_type": "code",
   "execution_count": 9,
   "metadata": {},
   "outputs": [],
   "source": [
    "model = Sequential()\n",
    "\n",
    "model.add(LSTM(units=100, return_sequences = True, input_shape =(X_train.shape[1],1)))\n",
    "model.add(Dropout(0.2))\n",
    "\n",
    "model.add(LSTM(units=100, return_sequences = True))\n",
    "model.add(Dropout(0.2))\n",
    "\n",
    "model.add(LSTM(units=100, return_sequences = True))\n",
    "model.add(Dropout(0.2))\n",
    "\n",
    "model.add(LSTM(units=100, return_sequences = False))\n",
    "model.add(Dropout(0.2))\n",
    "\n",
    "model.add(Dense(units =1))\n",
    "model.compile(optimizer='adam',loss=\"mean_squared_error\")"
   ]
  },
  {
   "cell_type": "code",
   "execution_count": 10,
   "metadata": {},
   "outputs": [
    {
     "name": "stdout",
     "output_type": "stream",
     "text": [
      "Epoch 1/20\n",
      "35/35 - 28s - loss: 0.0352\n",
      "Epoch 2/20\n",
      "35/35 - 4s - loss: 0.0118\n",
      "Epoch 3/20\n",
      "35/35 - 4s - loss: 0.0092\n",
      "Epoch 4/20\n",
      "35/35 - 4s - loss: 0.0106\n",
      "Epoch 5/20\n",
      "35/35 - 4s - loss: 0.0085\n",
      "Epoch 6/20\n",
      "35/35 - 4s - loss: 0.0085\n",
      "Epoch 7/20\n",
      "35/35 - 4s - loss: 0.0068\n",
      "Epoch 8/20\n",
      "35/35 - 4s - loss: 0.0066\n",
      "Epoch 9/20\n",
      "35/35 - 4s - loss: 0.0059\n",
      "Epoch 10/20\n",
      "35/35 - 4s - loss: 0.0060\n",
      "Epoch 11/20\n",
      "35/35 - 4s - loss: 0.0065\n",
      "Epoch 12/20\n",
      "35/35 - 4s - loss: 0.0057\n",
      "Epoch 13/20\n",
      "35/35 - 3s - loss: 0.0056\n",
      "Epoch 14/20\n",
      "35/35 - 3s - loss: 0.0054\n",
      "Epoch 15/20\n",
      "35/35 - 4s - loss: 0.0050\n",
      "Epoch 16/20\n",
      "35/35 - 3s - loss: 0.0054\n",
      "Epoch 17/20\n",
      "35/35 - 3s - loss: 0.0058\n",
      "Epoch 18/20\n",
      "35/35 - 3s - loss: 0.0048\n",
      "Epoch 19/20\n",
      "35/35 - 4s - loss: 0.0046\n",
      "Epoch 20/20\n",
      "35/35 - 4s - loss: 0.0043\n"
     ]
    }
   ],
   "source": [
    "hist = model.fit(X_train, y_train, epochs = 20, batch_size = 32, verbose=2)"
   ]
  },
  {
   "cell_type": "code",
   "execution_count": 11,
   "metadata": {},
   "outputs": [
    {
     "data": {
      "image/png": "[encoded data removed]",
      "text/plain": [
       "<Figure size 432x288 with 1 Axes>"
      ]
     },
     "metadata": {
      "needs_background": "light"
     },
     "output_type": "display_data"
    }
   ],
   "source": [
    "plt.plot(hist.history['loss'])\n",
    "plt.title('Training model loss')\n",
    "plt.ylabel('loss')\n",
    "plt.xlabel('epoch')\n",
    "plt.legend(['train'], loc='upper left')\n",
    "plt.show()"
   ]
  },
  {
   "cell_type": "code",
   "execution_count": 14,
   "metadata": {},
   "outputs": [
    {
     "data": {
      "text/plain": [
       "(192, 60, 1)"
      ]
     },
     "execution_count": 14,
     "metadata": {},
     "output_type": "execute_result"
    }
   ],
   "source": [
    "testData = pd.read_csv('Google_test_data.csv')\n",
    "testData[\"Close\"]=pd.to_numeric(testData.Close,errors='coerce')\n",
    "testData = testData.dropna()\n",
    "testData = testData.iloc[:,4:5]\n",
    "y_test = testData.iloc[60:,0:].values \n",
    "#input array for the model\n",
    "inputClosing = testData.iloc[:,0:].values \n",
    "inputClosing_scaled = sc.transform(inputClosing)\n",
    "inputClosing_scaled.shape\n",
    "X_test = []\n",
    "length = len(testData)\n",
    "timestep = 60\n",
    "for i in range(timestep,length):  \n",
    "    X_test.append(inputClosing_scaled[i-timestep:i,0])\n",
    "X_test = np.array(X_test)\n",
    "X_test = np.reshape(X_test,(X_test.shape[0],X_test.shape[1],1))\n",
    "X_test.shape"
   ]
  },
  {
   "cell_type": "code",
   "execution_count": 15,
   "metadata": {},
   "outputs": [
    {
     "data": {
      "text/plain": [
       "array([[1.1830164],\n",
       "       [1.1871499],\n",
       "       [1.1997811],\n",
       "       [1.2182366],\n",
       "       [1.2330647],\n",
       "       [1.233163 ],\n",
       "       [1.2187632],\n",
       "       [1.1985604],\n",
       "       [1.1850642],\n",
       "       [1.1812156],\n",
       "       [1.1748347],\n",
       "       [1.164055 ],\n",
       "       [1.1542344],\n",
       "       [1.145249 ],\n",
       "       [1.1436538],\n",
       "       [1.1490449],\n",
       "       [1.1684369],\n",
       "       [1.1988162],\n",
       "       [1.23338  ],\n",
       "       [1.267155 ],\n",
       "       [1.2804679],\n",
       "       [1.2754915],\n",
       "       [1.2518723],\n",
       "       [1.2187912],\n",
       "       [1.1892012],\n",
       "       [1.1725777],\n",
       "       [1.16934  ],\n",
       "       [1.170675 ],\n",
       "       [1.1655117],\n",
       "       [1.1558385],\n",
       "       [1.1443266],\n",
       "       [1.1308275],\n",
       "       [1.1104199],\n",
       "       [1.0849782],\n",
       "       [1.0743785],\n",
       "       [1.0845392],\n",
       "       [1.108477 ],\n",
       "       [1.1360447],\n",
       "       [1.1618378],\n",
       "       [1.1749014],\n",
       "       [1.18672  ],\n",
       "       [1.2007747],\n",
       "       [1.2173952],\n",
       "       [1.2330617],\n",
       "       [1.2434353],\n",
       "       [1.2438468],\n",
       "       [1.2324322],\n",
       "       [1.2216827],\n",
       "       [1.2181102],\n",
       "       [1.2239071],\n",
       "       [1.2379307],\n",
       "       [1.2482386],\n",
       "       [1.2515764],\n",
       "       [1.2486032],\n",
       "       [1.2464383],\n",
       "       [1.2422858],\n",
       "       [1.2334794],\n",
       "       [1.228788 ],\n",
       "       [1.2377354],\n",
       "       [1.2567753],\n",
       "       [1.284309 ],\n",
       "       [1.3171333],\n",
       "       [1.3400747],\n",
       "       [1.3434867],\n",
       "       [1.3293871],\n",
       "       [1.3061973],\n",
       "       [1.2893734],\n",
       "       [1.2834549],\n",
       "       [1.286936 ],\n",
       "       [1.2933974],\n",
       "       [1.3001512],\n",
       "       [1.3043718],\n",
       "       [1.301104 ],\n",
       "       [1.2951847],\n",
       "       [1.2898723],\n",
       "       [1.2881515],\n",
       "       [1.2902297],\n",
       "       [1.2955991],\n",
       "       [1.3079147],\n",
       "       [1.32652  ],\n",
       "       [1.350413 ],\n",
       "       [1.3731743],\n",
       "       [1.3858103],\n",
       "       [1.3866754],\n",
       "       [1.3883644],\n",
       "       [1.3992165],\n",
       "       [1.4167651],\n",
       "       [1.4326099],\n",
       "       [1.4417359],\n",
       "       [1.4434572],\n",
       "       [1.4439443],\n",
       "       [1.4524858],\n",
       "       [1.469755 ],\n",
       "       [1.4822341],\n",
       "       [1.4814854],\n",
       "       [1.4673301],\n",
       "       [1.4431579],\n",
       "       [1.4155123],\n",
       "       [1.3927159],\n",
       "       [1.3847653],\n",
       "       [1.3925523],\n",
       "       [1.4114296],\n",
       "       [1.4362634],\n",
       "       [1.4579414],\n",
       "       [1.4708778],\n",
       "       [1.4728718],\n",
       "       [1.4682863],\n",
       "       [1.4620193],\n",
       "       [1.4605807],\n",
       "       [1.4650823],\n",
       "       [1.4745356],\n",
       "       [1.4880434],\n",
       "       [1.50184  ],\n",
       "       [1.516227 ],\n",
       "       [1.5335685],\n",
       "       [1.548097 ],\n",
       "       [1.5587517],\n",
       "       [1.5674158],\n",
       "       [1.5783882],\n",
       "       [1.5593251],\n",
       "       [1.508238 ],\n",
       "       [1.4428405],\n",
       "       [1.3896729],\n",
       "       [1.3607997],\n",
       "       [1.3510864],\n",
       "       [1.3518051],\n",
       "       [1.356335 ],\n",
       "       [1.362286 ],\n",
       "       [1.3595864],\n",
       "       [1.3457208],\n",
       "       [1.3382999],\n",
       "       [1.3465344],\n",
       "       [1.3623786],\n",
       "       [1.3717124],\n",
       "       [1.3740244],\n",
       "       [1.3723038],\n",
       "       [1.3663083],\n",
       "       [1.3560491],\n",
       "       [1.3444506],\n",
       "       [1.3296221],\n",
       "       [1.3143038],\n",
       "       [1.2978655],\n",
       "       [1.2647575],\n",
       "       [1.2240942],\n",
       "       [1.1845175],\n",
       "       [1.1541364],\n",
       "       [1.1419729],\n",
       "       [1.1508768],\n",
       "       [1.1742451],\n",
       "       [1.2022699],\n",
       "       [1.230019 ],\n",
       "       [1.2523042],\n",
       "       [1.2683988],\n",
       "       [1.2810619],\n",
       "       [1.2903852],\n",
       "       [1.2982614],\n",
       "       [1.3072269],\n",
       "       [1.3146292],\n",
       "       [1.3109428],\n",
       "       [1.2949642],\n",
       "       [1.2714481],\n",
       "       [1.248633 ],\n",
       "       [1.2361392],\n",
       "       [1.2387724],\n",
       "       [1.2555567],\n",
       "       [1.2820988],\n",
       "       [1.3065145],\n",
       "       [1.3245685],\n",
       "       [1.3391665],\n",
       "       [1.3516983],\n",
       "       [1.3615549],\n",
       "       [1.3691988],\n",
       "       [1.3750595],\n",
       "       [1.376748 ],\n",
       "       [1.3742756],\n",
       "       [1.3646837],\n",
       "       [1.3526324],\n",
       "       [1.3442613],\n",
       "       [1.3389889],\n",
       "       [1.3344867],\n",
       "       [1.3626603],\n",
       "       [1.4172474],\n",
       "       [1.4745554],\n",
       "       [1.5148224],\n",
       "       [1.5300086],\n",
       "       [1.5200995],\n",
       "       [1.4828271],\n",
       "       [1.4371525],\n",
       "       [1.3988209],\n",
       "       [1.3835415],\n",
       "       [1.3852525],\n",
       "       [1.3918859]], dtype=float32)"
      ]
     },
     "execution_count": 15,
     "metadata": {},
     "output_type": "execute_result"
    }
   ],
   "source": [
    "y_pred = model.predict(X_test)\n",
    "y_pred"
   ]
  },
  {
   "cell_type": "code",
   "execution_count": 16,
   "metadata": {},
   "outputs": [],
   "source": [
    "predicted_price = sc.inverse_transform(y_pred)"
   ]
  },
  {
   "cell_type": "code",
   "execution_count": 17,
   "metadata": {},
   "outputs": [
    {
     "data": {
      "image/png": "[encoded data removed]",
      "text/plain": [
       "<Figure size 432x288 with 1 Axes>"
      ]
     },
     "metadata": {
      "needs_background": "light"
     },
     "output_type": "display_data"
    }
   ],
   "source": [
    "plt.plot(y_test, color = 'red', label = 'Actual Stock Price')\n",
    "plt.plot(predicted_price, color = 'green', label = 'Predicted Stock Price')\n",
    "plt.title('Google stock price prediction')\n",
    "plt.xlabel('Time')\n",
    "plt.ylabel('Stock Price')\n",
    "plt.legend()\n",
    "plt.show()"
   ]
  },
  {
   "cell_type": "code",
   "execution_count": null,
   "metadata": {},
   "outputs": [],
   "source": []
  }
 ],
 "metadata": {
  "kernelspec": {
   "display_name": "Python 3",
   "language": "python",
   "name": "python3"
  },
  "language_info": {
   "codemirror_mode": {
    "name": "ipython",
    "version": 3
   },
   "file_extension": ".py",
   "mimetype": "text/x-python",
   "name": "python",
   "nbconvert_exporter": "python",
   "pygments_lexer": "ipython3",
   "version": "3.8.8"
  }
 },
 "nbformat": 4,
 "nbformat_minor": 4
}
